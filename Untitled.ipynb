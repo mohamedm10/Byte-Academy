{
 "cells": [
  {
   "cell_type": "code",
   "execution_count": null,
   "id": "d70d46dd",
   "metadata": {},
   "outputs": [],
   "source": [
    "# find the greatest btwn 2 nums\n",
    "\n",
    "num1 = int(input('enter first num'))\n",
    "num2 = int(input('enter second num'))\n",
    "if num1 > num2:\n",
    "    print(num1,'is greater than',num2)\n",
    "else:\n",
    "    print(num2,'is greater than',num1)"
   ]
  },
  {
   "cell_type": "code",
   "execution_count": 18,
   "id": "8268a2b8",
   "metadata": {},
   "outputs": [
    {
     "name": "stdout",
     "output_type": "stream",
     "text": [
      "500\n",
      "green\n"
     ]
    }
   ],
   "source": [
    "# func to \n",
    "#Violet 380 to less than 450\n",
    "#Blue 450 to less than 495\n",
    "#Green 495 to less than 570\n",
    "#Yellow 570 to less than 590\n",
    "#Orange 590 to less than 620\n",
    "#Red 620 to 750\n",
    "# const 379-751\n",
    "\n",
    "color_wv = int(input(''))\n",
    "\n",
    "if color_wv <380 or color_wv > 750:\n",
    "    print('out of range')\n",
    "elif color_wv >=380 and color_wv <450:\n",
    "    print('violet')\n",
    "elif color_wv >=450 and color_wv <495:\n",
    "    print('blue')\n",
    "elif color_wv >=495 and color_wv <570:\n",
    "    print('green')\n",
    "elif color_wv >=570 and color_wv <590:\n",
    "    print('yellow')\n",
    "elif color_wv >=590 and color_wv <620:\n",
    "    print('orange')\n",
    "else:\n",
    "    print('red')"
   ]
  },
  {
   "cell_type": "code",
   "execution_count": 1,
   "id": "24e258d2",
   "metadata": {},
   "outputs": [],
   "source": [
    "# function with args height, length\n",
    "# height up __ spaces\n",
    "# lenght side __ spaces\n",
    "def draw_rectangle(height,length):\n",
    "    # first for loop \n",
    "    for h in range(height):\n",
    "        if h==0:\n",
    "            print('*'*length)\n",
    "        elif h==height-1:\n",
    "            print('*'*length)\n",
    "        else:\n",
    "            print('*'+' '*(length-2)+'*')\n",
    " "
   ]
  },
  {
   "cell_type": "code",
   "execution_count": 3,
   "id": "b79eeb0a",
   "metadata": {},
   "outputs": [
    {
     "name": "stdout",
     "output_type": "stream",
     "text": [
      "***************\n",
      "*             *\n",
      "*             *\n",
      "*             *\n",
      "*             *\n",
      "*             *\n",
      "*             *\n",
      "*             *\n",
      "*             *\n",
      "***************\n"
     ]
    }
   ],
   "source": [
    "draw_rectangle(10,15)"
   ]
  },
  {
   "cell_type": "code",
   "execution_count": 5,
   "id": "285e067d",
   "metadata": {},
   "outputs": [
    {
     "name": "stdout",
     "output_type": "stream",
     "text": [
      "4 is largest\n"
     ]
    }
   ],
   "source": [
    "# func to get max of 3 nums\n",
    "\n",
    "def get_max(x,y,z):\n",
    "    nums = []\n",
    "    nums.append(x)\n",
    "    nums.append(y)\n",
    "    nums.append(z)\n",
    "    largest = max(nums)\n",
    "    print(largest,'is largest')\n",
    "\n",
    "get_max(1,3,4)\n"
   ]
  },
  {
   "cell_type": "code",
   "execution_count": 46,
   "id": "00230004",
   "metadata": {},
   "outputs": [],
   "source": [
    "def make_chocolate(small, big, goal):\n",
    "  # first fail if big + small is less than goal\n",
    "    if (big*5)+small<goal:\n",
    "        return -1\n",
    "  # second fail if (x)big > goal, 1big+small<goal\n",
    "    if goal%5 > small:\n",
    "        return -1\n",
    "  # first true big*5+small=goal\n",
    "    if big*5+small==goal:\n",
    "        return goal-big*5\n",
    "  # second true \n",
    "    if big*5+small>goal:\n",
    "        print('4th if')\n",
    "        return goal%(big*5)\n",
    "#     third true\n",
    "    if \n",
    "    else:\n",
    "        print('else')\n",
    "        return goal%(big*5)\n",
    "  "
   ]
  },
  {
   "cell_type": "code",
   "execution_count": 47,
   "id": "3ff8ad14",
   "metadata": {},
   "outputs": [
    {
     "name": "stdout",
     "output_type": "stream",
     "text": [
      "4th if\n"
     ]
    },
    {
     "data": {
      "text/plain": [
       "50"
      ]
     },
     "execution_count": 47,
     "metadata": {},
     "output_type": "execute_result"
    }
   ],
   "source": [
    "make_chocolate(60, 100, 550)"
   ]
  },
  {
   "cell_type": "code",
   "execution_count": 57,
   "id": "e6fb88f9",
   "metadata": {},
   "outputs": [],
   "source": [
    "# a*b = a+a+a b,times\n",
    "# \n",
    "\n",
    "def iterPower(base, exp):\n",
    "    last_base = 1 # don't understand how one works here \n",
    "    for i in range(exp):\n",
    "        last_base = base*last_base\n",
    "\n",
    "    print('result',last_base)"
   ]
  },
  {
   "cell_type": "code",
   "execution_count": 58,
   "id": "c8cb7ab2",
   "metadata": {},
   "outputs": [
    {
     "name": "stdout",
     "output_type": "stream",
     "text": [
      "result 32\n"
     ]
    }
   ],
   "source": [
    "iterPower(2,5)"
   ]
  },
  {
   "cell_type": "code",
   "execution_count": null,
   "id": "a609e8b2",
   "metadata": {},
   "outputs": [],
   "source": []
  }
 ],
 "metadata": {
  "kernelspec": {
   "display_name": "Python 3",
   "language": "python",
   "name": "python3"
  },
  "language_info": {
   "codemirror_mode": {
    "name": "ipython",
    "version": 3
   },
   "file_extension": ".py",
   "mimetype": "text/x-python",
   "name": "python",
   "nbconvert_exporter": "python",
   "pygments_lexer": "ipython3",
   "version": "3.8.8"
  }
 },
 "nbformat": 4,
 "nbformat_minor": 5
}
