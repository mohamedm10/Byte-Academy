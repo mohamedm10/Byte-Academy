{
 "cells": [
  {
   "cell_type": "markdown",
   "metadata": {},
   "source": [
    "solutions"
   ]
  },
  {
   "cell_type": "code",
   "execution_count": 7,
   "metadata": {},
   "outputs": [
    {
     "name": "stdout",
     "output_type": "stream",
     "text": [
      "your statement: hello world\n",
      "string 2: or\n",
      "7\n"
     ]
    }
   ],
   "source": [
    "# q1\n",
    "# user inputs 2 strings\n",
    "# str1 = statement\n",
    "# str2 = used to find if inside str1 (use methods)\n",
    "# inform user about result\n",
    "str_1 = input('your statement: ')\n",
    "str_2 = input('string 2: ')\n",
    "print(str_1.find(str_2))"
   ]
  },
  {
   "cell_type": "code",
   "execution_count": 6,
   "metadata": {},
   "outputs": [
    {
     "name": "stdout",
     "output_type": "stream",
     "text": [
      "write your string: Hello earth\n",
      "HELLO EARTH\n",
      "hello earth\n",
      "htrae olleH\n"
     ]
    }
   ],
   "source": [
    "# q2\n",
    "# user inputs a string\n",
    "str_1 = input('write your string: ')\n",
    "print(str_1.upper())\n",
    "print(str_1.lower())\n",
    "print(str_1[::-1])"
   ]
  },
  {
   "cell_type": "code",
   "execution_count": 3,
   "metadata": {},
   "outputs": [
    {
     "name": "stdout",
     "output_type": "stream",
     "text": [
      "2\n",
      "0.7874015748031495\n"
     ]
    }
   ],
   "source": [
    "# Write a program that asks user to enter a length in centimeters. \n",
    "# If negative value is entered, the program should tell the user that the entry is invalid. \n",
    "# Otherwise the program should convert the length to inches and print out the result. \n",
    "# There are 2.54 centimeters in inches.\n",
    "\n",
    "\n",
    "inp = float(input())\n",
    "\n",
    "if inp >1:\n",
    "    print(inp/2.54)\n",
    "else:\n",
    "    print('Invalid entry')\n",
    "    \n"
   ]
  },
  {
   "cell_type": "code",
   "execution_count": 12,
   "metadata": {
    "scrolled": true
   },
   "outputs": [
    {
     "name": "stdout",
     "output_type": "stream",
     "text": [
      "moha byte moha byte vivek mmj\n",
      "moha appears 2\n",
      "byte appears 2\n",
      "vivek appears 1\n",
      "mmj appears 1\n"
     ]
    }
   ],
   "source": [
    "# Write a program that accepts sentence from the user as input and then print the unique \n",
    "# .. words present in that sentense along with the number of times they appeared in the sentence. \n",
    "# Don't use any of the built in fuction instead use for loop and if conditions.\n",
    "\n",
    "snt = input()\n",
    "\n",
    "words =snt.split(\" \")\n",
    "unique_words = {}\n",
    "for word in words:\n",
    "    count = 0\n",
    "   \n",
    "    for word2 in words:\n",
    "        if word2 == word:\n",
    "            count+=1\n",
    "    if word not in unique_words:        \n",
    "        unique_words[word]=count        \n",
    "# print(unique_words)\n",
    "# to print each word\n",
    "for key,value in unique_words.items():\n",
    "    print(key,\"appears\",value)\n",
    "\n"
   ]
  },
  {
   "cell_type": "code",
   "execution_count": 14,
   "metadata": {},
   "outputs": [
    {
     "name": "stdout",
     "output_type": "stream",
     "text": [
      "heloooooo\n",
      "e 1\n",
      "o 3\n",
      "o 4\n",
      "o 5\n",
      "o 6\n",
      "o 7\n",
      "o 8\n"
     ]
    }
   ],
   "source": [
    "# control flow\n",
    "# q3 \n",
    "snt = input('')\n",
    "\n",
    "vowels = ['a','e','i','o','u']\n",
    "\n",
    "for index, letter in enumerate(snt):\n",
    "    if letter in vowels:\n",
    "        print(letter, index)"
   ]
  },
  {
   "cell_type": "code",
   "execution_count": 25,
   "metadata": {},
   "outputs": [
    {
     "name": "stdout",
     "output_type": "stream",
     "text": [
      "name\n",
      "name not a palindrome\n"
     ]
    }
   ],
   "source": [
    "# q4\n",
    "word = input()\n",
    "\n",
    "if word == word[::-1]:\n",
    "    print(word,'is a palindrome')\n",
    "else:\n",
    "    print(word,'not a palindrome')\n",
    "    "
   ]
  },
  {
   "cell_type": "code",
   "execution_count": 29,
   "metadata": {},
   "outputs": [
    {
     "name": "stdout",
     "output_type": "stream",
     "text": [
      "1 has a square of 1 and a cube of 1\n",
      "2 has a square of 4 and a cube of 8\n",
      "3 has a square of 27 and a cube of 27\n",
      "4 has a square of 256 and a cube of 64\n",
      "5 has a square of 3125 and a cube of 125\n",
      "6 has a square of 46656 and a cube of 216\n",
      "7 has a square of 823543 and a cube of 343\n",
      "8 has a square of 16777216 and a cube of 512\n",
      "9 has a square of 387420489 and a cube of 729\n",
      "10 has a square of 10000000000 and a cube of 1000\n"
     ]
    }
   ],
   "source": [
    "# q5 \n",
    "num = 1\n",
    "while num in range(1,10+1):\n",
    "    square = num**num\n",
    "    cube = num*num*num\n",
    "    print(f'{num} has a square of {square} and a cube of {cube}')\n",
    "    num+=1"
   ]
  },
  {
   "cell_type": "code",
   "execution_count": 1,
   "metadata": {},
   "outputs": [
    {
     "name": "stdout",
     "output_type": "stream",
     "text": [
      "enter radius: 5\n",
      "78.5\n"
     ]
    }
   ],
   "source": [
    "# data types problems\n",
    "# q1\n",
    "# input of radius of a circle\n",
    "# compute the area\n",
    "# area = pie*r*r\n",
    "rad = int(input('enter radius: '))\n",
    "pie = 3.14\n",
    "area = pie*rad*rad\n",
    "print(area)\n"
   ]
  },
  {
   "cell_type": "code",
   "execution_count": 1,
   "metadata": {},
   "outputs": [
    {
     "name": "stdout",
     "output_type": "stream",
     "text": [
      "give a list of numbers[1,2,3]\n",
      "50\n"
     ]
    },
    {
     "data": {
      "text/plain": [
       "list"
      ]
     },
     "execution_count": 1,
     "metadata": {},
     "output_type": "execute_result"
    }
   ],
   "source": [
    "# q2\n",
    "# program to multiply all items in list\n",
    "lst = list(input('give a list of numbers'))\n",
    "total = 0\n",
    "for num in range(len(lst)+1):\n",
    "    total = num * num+1\n",
    "print(total)"
   ]
  },
  {
   "cell_type": "code",
   "execution_count": 7,
   "metadata": {},
   "outputs": [
    {
     "name": "stdout",
     "output_type": "stream",
     "text": [
      "give a list of numbers3,5,3,9,8\n",
      "3\n"
     ]
    }
   ],
   "source": [
    "# q3 \n",
    "# prog to get smallest num from list\n",
    "\n",
    "lst = input('give a list of numbers').split(',')\n",
    "list_of_numbers = list(map(int, lst)) # googled this one\n",
    "sm = 10*10\n",
    "for num in list_of_numbers:\n",
    "        if num < sm:\n",
    "            sm = num\n",
    "print(sm)         "
   ]
  },
  {
   "cell_type": "code",
   "execution_count": 8,
   "metadata": {},
   "outputs": [
    {
     "name": "stdout",
     "output_type": "stream",
     "text": [
      "17\n"
     ]
    }
   ],
   "source": [
    "#q4\n",
    "# prog to calc len of str\n",
    "s = 'abcdefghijklmnopq'\n",
    "count = 0\n",
    "for i in s:\n",
    "    count+=1\n",
    "print(count)\n"
   ]
  },
  {
   "cell_type": "markdown",
   "metadata": {},
   "source": [
    "dictionary exercises\n"
   ]
  },
  {
   "cell_type": "code",
   "execution_count": 9,
   "metadata": {},
   "outputs": [
    {
     "name": "stdout",
     "output_type": "stream",
     "text": [
      "enter one product & price then savebanana:2\n",
      "enter one product & price then saveq\n",
      "{'banana': '2'}\n"
     ]
    }
   ],
   "source": [
    "# q1 \n",
    "# prog to ask user to enter 5 product names & prices \n",
    "# store data in a dict key=product, value=price\n",
    "# allow user to search for product and output the price\n",
    "\n",
    "user_inpt = input('enter one product & price then save').split(':')\n",
    "products = {}\n",
    "while user_inpt:\n",
    "   \n",
    "    if user_inpt[0]=='q':\n",
    "        break\n",
    "    else:\n",
    "        products[user_inpt[0]]=user_inpt[1]\n",
    "        user_inpt = input('enter one product & price then save').split(':')\n",
    "print(products)\n",
    "    \n",
    "    \n",
    "    \n"
   ]
  },
  {
   "cell_type": "code",
   "execution_count": null,
   "metadata": {},
   "outputs": [],
   "source": []
  }
 ],
 "metadata": {
  "kernelspec": {
   "display_name": "Python 3",
   "language": "python",
   "name": "python3"
  },
  "language_info": {
   "codemirror_mode": {
    "name": "ipython",
    "version": 3
   },
   "file_extension": ".py",
   "mimetype": "text/x-python",
   "name": "python",
   "nbconvert_exporter": "python",
   "pygments_lexer": "ipython3",
   "version": "3.8.8"
  }
 },
 "nbformat": 4,
 "nbformat_minor": 4
}
